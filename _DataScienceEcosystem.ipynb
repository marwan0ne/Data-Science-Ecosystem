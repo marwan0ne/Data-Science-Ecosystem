{
 "cells": [
  {
   "cell_type": "markdown",
   "id": "387b2bff",
   "metadata": {},
   "source": [
    "# Data Science Ecosystem\n"
   ]
  },
  {
   "cell_type": "markdown",
   "id": "08cae8f1",
   "metadata": {},
   "source": [
    "**In this notebook, Data Science Tools and Ecosystem are summarized.**\n"
   ]
  },
  {
   "cell_type": "markdown",
   "id": "e18653e0",
   "metadata": {},
   "source": [
    "**Objectives**\n",
    "* Some of the popular languages that Data Scientists use are\n",
    "* Some of the commonly used libraries used by Data Scientists include\n",
    "* below are a few examples of evaluating arithmetic expressions in Python\n"
   ]
  },
  {
   "cell_type": "markdown",
   "id": "0a4fc481",
   "metadata": {},
   "source": [
    "Some of the popular languages that Data Scientists use are:\n",
    "1. Python\n",
    "2. R\n",
    "3. Java\n",
    "4. Scala"
   ]
  },
  {
   "cell_type": "markdown",
   "id": "eb178674",
   "metadata": {},
   "source": [
    "Some of the commonly used libraries used by Data Scientists include:\n",
    "1. Pandas\n",
    "2. numpy\n",
    "3. scikit-learn"
   ]
  },
  {
   "cell_type": "markdown",
   "id": "06ab55fe",
   "metadata": {},
   "source": [
    "\n",
    "| Data Science Tools| \n",
    "| ------------- |\n",
    "| Juptyer Notebooks| \n",
    "| Rstudio  |\n",
    "| Spyder|"
   ]
  },
  {
   "cell_type": "markdown",
   "id": "cb23358a",
   "metadata": {},
   "source": [
    "### below are a few examples of evaluating arithmetic expressions in Python"
   ]
  },
  {
   "cell_type": "code",
   "execution_count": 1,
   "id": "d0c73064",
   "metadata": {},
   "outputs": [
    {
     "data": {
      "text/plain": [
       "17"
      ]
     },
     "execution_count": 1,
     "metadata": {},
     "output_type": "execute_result"
    }
   ],
   "source": [
    "# This a simple arithmetic expression to mutiply then add integers\n",
    "(3*4)+5"
   ]
  },
  {
   "cell_type": "code",
   "execution_count": 1,
   "id": "43d9ff34",
   "metadata": {},
   "outputs": [
    {
     "data": {
      "text/plain": [
       "3.3333333333333335"
      ]
     },
     "execution_count": 1,
     "metadata": {},
     "output_type": "execute_result"
    }
   ],
   "source": [
    "# This will convert 200 minutes to hours by diving by 60\n",
    "200/60"
   ]
  },
  {
   "cell_type": "markdown",
   "id": "69021c84",
   "metadata": {},
   "source": [
    "## Author\n",
    "Marwan Ashraf"
   ]
  },
  {
   "cell_type": "code",
   "execution_count": null,
   "id": "0f55b848",
   "metadata": {},
   "outputs": [],
   "source": []
  }
 ],
 "metadata": {
  "kernelspec": {
   "display_name": "Python 3 (ipykernel)",
   "language": "python",
   "name": "python3"
  },
  "language_info": {
   "codemirror_mode": {
    "name": "ipython",
    "version": 3
   },
   "file_extension": ".py",
   "mimetype": "text/x-python",
   "name": "python",
   "nbconvert_exporter": "python",
   "pygments_lexer": "ipython3",
   "version": "3.9.13"
  }
 },
 "nbformat": 4,
 "nbformat_minor": 5
}
